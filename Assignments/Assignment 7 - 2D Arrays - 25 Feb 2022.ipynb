{
 "cells": [
  {
   "cell_type": "markdown",
   "metadata": {},
   "source": [
    "\n",
    "### 2D Arrays"
   ]
  },
  {
   "cell_type": "markdown",
   "metadata": {},
   "source": [
    "❓ **Find the first occurrence of search element**\n",
    "\n",
    "Give a matrix MXN and a number. You need to write a function to find the location first occurrence of it.\n",
    "\n",
    "you need check the element in row by row manner.\n",
    "\n",
    "👀 Example\n",
    "\n",
    "Input:\n",
    "```\n",
    " mat[4][5] \n",
    " [\n",
    "   [1, 2, 3, 4, 5],\n",
    "   [2, 4, 5, 8, 10],\n",
    "   [3, 5, 7, 9, 11],\n",
    "   [1, 3, 5, 7, 9],\n",
    "]\n",
    "element 5\n",
    "```\n",
    "\n",
    "output\n",
    "```\n",
    "  found at (0,4) \n",
    "```\n",
    "\n"
   ]
  },
  {
   "cell_type": "code",
   "execution_count": 6,
   "metadata": {
    "vscode": {
     "languageId": "javascript"
    }
   },
   "outputs": [
    {
     "name": "stdout",
     "output_type": "stream",
     "text": [
      "found at (0, 4)\n"
     ]
    }
   ],
   "source": [
    "const SearchElement = (arr,target) => {\n",
    "    let flag = 0;\n",
    "    let ans = \"\";\n",
    "    for(let row = 0; row<arr.length;row++){\n",
    "        for(let col = 0; col<arr[0].length; col++){\n",
    "            if(arr[row][col] === target){\n",
    "                ans = `found at (${row} , ${col})`;\n",
    "                flag = 1;\n",
    "                break;\n",
    "            }\n",
    "        }\n",
    "        if(flag === 1){\n",
    "            break;\n",
    "        }\n",
    "    }\n",
    "    console.log(ans);\n",
    "}\n",
    "\n",
    "SearchElement([\n",
    "    [1,2,3,4,5],\n",
    "    [2,4,5,8,10],\n",
    "    [3,5,7,9,11],\n",
    "    [1,3,5,7,9],\n",
    "],5)"
   ]
  },
  {
   "cell_type": "markdown",
   "metadata": {},
   "source": [
    "❓**Array row sum with so far** \n",
    "\n",
    "Given an N X N array, you need to return a N X N+1 matrix. The coloum will be sum of the all the row elements.\n",
    "\n",
    "\n",
    "👀 Example\n",
    "\n",
    "Input matrix\n",
    "\n",
    "```\n",
    "1 2 3\n",
    "4 5 6\n",
    "```\n",
    "\n",
    "Output Matrix\n",
    "\n",
    "```\n",
    "1 2 3 6 \n",
    "4 5 6 15\n",
    "```"
   ]
  },
  {
   "cell_type": "code",
   "execution_count": 7,
   "metadata": {
    "vscode": {
     "languageId": "javascript"
    }
   },
   "outputs": [
    {
     "name": "stdout",
     "output_type": "stream",
     "text": [
      "[[1, 2, 3, 6], [4, 5, 6, 15]]\n"
     ]
    }
   ],
   "source": [
    "const RowWiseSum = (arr) => {\n",
    "    for (let row = 0; row < arr.length; row++) {\n",
    "        let sum=0;\n",
    "        for (let col = 0; col < arr[row].length; col++) {\n",
    "            sum += arr[row][col];\n",
    "        }\n",
    "        arr[row].push(sum);\n",
    "    }\n",
    "    console.log(arr);\n",
    "}\n",
    "\n",
    "RowWiseSum( [[1,2,3],[4,5,6],])\n"
   ]
  },
  {
   "cell_type": "markdown",
   "metadata": {},
   "source": [
    "❓ **Find the row with maximum number of 1s**\n",
    "\n",
    "Given a boolean 2D array, where each row is sorted. Find the row with the maximum number of 1s.\n",
    "\n",
    "👀 Example\n",
    "\n",
    "Input matrix\n",
    "\n",
    "```\n",
    "0 1 1 1\n",
    "0 0 1 1\n",
    "1 1 1 1  // this row has maximum 1s\n",
    "0 0 0 0\n",
    "```\n",
    "\n",
    "Output\n",
    "\n",
    "```\n",
    "2\n",
    "```"
   ]
  },
  {
   "cell_type": "code",
   "execution_count": 9,
   "metadata": {
    "vscode": {
     "languageId": "javascript"
    }
   },
   "outputs": [
    {
     "name": "stdout",
     "output_type": "stream",
     "text": [
      "2\n"
     ]
    }
   ],
   "source": [
    "const MaxOne = (arr) => {\n",
    "  let ans = [0, 0];  \n",
    "  for (let row = 0; row < arr.length; row++) {\n",
    "    let one = 0;\n",
    "    for (let col = 0; col < arr[0].length; col++) {\n",
    "      if (arr[row][col] === 1) {\n",
    "        one += 1;\n",
    "      }\n",
    "    }\n",
    "    if (one > ans[0]) {\n",
    "      ans[0] = one;\n",
    "      ans[1] = row;\n",
    "    }\n",
    "  }\n",
    "  console.log(ans[1]);\n",
    "};\n",
    "\n",
    "\n",
    "MaxOne( [\n",
    "    [0, 1, 1, 1],\n",
    "    [0, 0, 1, 1],\n",
    "    [1, 1, 1, 1],\n",
    "    [0, 0, 0, 0],\n",
    "  ]\n",
    ")\n"
   ]
  },
  {
   "cell_type": "markdown",
   "metadata": {},
   "source": [
    "❓ **Array diagonal printing**\n",
    "\n",
    "Given a 2D matrix, print all elements of the given matrix in diagonal order. \n",
    "\n",
    "For example, consider the following 5 X 4 input matrix.\n",
    "\n",
    "```\n",
    "    1     2     3     4\n",
    "    5     6     7     8\n",
    "    9    10    11    12\n",
    "   13    14    15    16\n",
    "   17    18    19    20\n",
    "```\n",
    "\n",
    "Diagonal printing of the above matrix is ⬇️\n",
    "\n",
    "```\n",
    "   1\n",
    "   5     2\n",
    "   9     6     3\n",
    "   13    10     7     4\n",
    "   17    14    11     8\n",
    "   18    15    12\n",
    "   19    16\n",
    "   20\n",
    "```"
   ]
  },
  {
   "cell_type": "code",
   "execution_count": null,
   "metadata": {},
   "outputs": [],
   "source": []
  }
 ],
 "metadata": {
  "kernelspec": {
   "display_name": "Python 3.10.8 64-bit",
   "language": "python",
   "name": "python3"
  },
  "language_info": {
   "codemirror_mode": {
    "name": "ipython",
    "version": 3
   },
   "file_extension": ".py",
   "mimetype": "text/x-python",
   "name": "python",
   "nbconvert_exporter": "python",
   "pygments_lexer": "ipython3",
   "version": "3.10.8"
  },
  "orig_nbformat": 4,
  "vscode": {
   "interpreter": {
    "hash": "26de051ba29f2982a8de78e945f0abaf191376122a1563185a90213a26c5da77"
   }
  }
 },
 "nbformat": 4,
 "nbformat_minor": 2
}
