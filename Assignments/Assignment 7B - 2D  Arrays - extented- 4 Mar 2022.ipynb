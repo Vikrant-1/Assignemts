{
 "cells": [
  {
   "cell_type": "markdown",
   "metadata": {},
   "source": [
    "## 📖 Self Study\n",
    "- Read about `Class` in Python using the following resources\n",
    "  - [Classes in Python.org](https://docs.python.org/3/tutorial/classes.html)\n",
    "  - [Python Classes by Telusko](https://www.youtube.com/watch?v=8O5kX73OkIY&list=PLsyeobzWxl7poL9JTVyndKe62ieoN-MZ3&index=53)"
   ]
  },
  {
   "cell_type": "markdown",
   "metadata": {},
   "source": [
    "----\n",
    "## 🏋️‍♀️ 2D Arrays - extended"
   ]
  },
  {
   "cell_type": "markdown",
   "metadata": {},
   "source": [
    "### Array sort based on column value\n",
    "\n",
    "❓Given an `N X N` array, implement function `sort2DArrayByColumnValues` to sort the rows of the array based on the value of column at the given index `column`. \n",
    "> Tip: This is similar to sorting the elements of spreadsheet based on single column\n",
    "\n",
    "#### **Constraints**\n",
    ">    column >= 0 and column <= N-1\n",
    "\n",
    "👀 Example\n",
    "\n",
    "Input\n",
    "```\n",
    "mat [3][3] =  \n",
    "[\n",
    "    [1,5,6],\n",
    "    [4,1,7],\n",
    "    [3,7,2]\n",
    "]\n",
    "column = 1\n",
    "```\n",
    "\n",
    "Output\n",
    "```\n",
    "4 1 7\n",
    "1 5 6\n",
    "3 7 2\n",
    "```\n"
   ]
  },
  {
   "cell_type": "code",
   "execution_count": 1,
   "metadata": {
    "vscode": {
     "languageId": "javascript"
    }
   },
   "outputs": [
    {
     "name": "stdout",
     "output_type": "stream",
     "text": [
      "[[1, 7, 2], [0, 3, 7], [3, 14, 12]]\n"
     ]
    }
   ],
   "source": [
    "const solve = (mat , col) => {\n",
    "    if(col < 0 || col > mat.length-1){\n",
    "        return mat\n",
    "    }\n",
    "    mat.sort((a,b)=>a[col]-b[col])\n",
    "    return mat\n",
    "}\n",
    "\n",
    "console.log(solve([\n",
    "    [1,7,2],\n",
    "    [3,14,12],\n",
    "    [0,3,7],],\n",
    "    2))\n"
   ]
  },
  {
   "cell_type": "markdown",
   "metadata": {},
   "source": [
    "### Array main diagonal sorting\n",
    "\n",
    "❓ Given an N X N array, implement the function `sort2DArrayMainDiagonals` to sort all the elements, **in place**, of the main diagonals separately in `DESC` order. Main diagonal is backward slash'ish diagonal i.e. `\\` diagonal.\n",
    "\n",
    "> 💡 Tip: Sorting applies to only the elements of the main diagonals; no relation with the contents of the other main diagonals\n",
    "\n",
    "👀 Example\n",
    "\n",
    "Input \n",
    "```\n",
    "1 5 3\n",
    "5 2 7\n",
    "1 8 3\n",
    "```\n",
    "> Here, the diagonals are `[1], [5, 8], [1, 2, 3], [5, 7] & [3]` so you need to sort them individually\n",
    "\n",
    "\n",
    "Output\n",
    "```\n",
    "3 7 3\n",
    "8 2 5\n",
    "1 5 1\n",
    "\n",
    "```\n"
   ]
  },
  {
   "cell_type": "code",
   "execution_count": 1,
   "metadata": {
    "vscode": {
     "languageId": "javascript"
    }
   },
   "outputs": [
    {
     "name": "stdout",
     "output_type": "stream",
     "text": [
      "[[3, 7, 3], [8, 2, 5], [1, 5, 1]]\n"
     ]
    }
   ],
   "source": [
    "const solve = (matrix) => {\n",
    "    let m =  new Map()\n",
    "\n",
    "    //  store items diagonally\n",
    "    for (let i = 0; i < matrix.length; i++) {\n",
    "        for (let j = 0; j < matrix[0].length; j++) {\n",
    "            if(m.has(i-j)){\n",
    "                let x = m.get(i-j)\n",
    "                m.set(i-j , [...x,matrix[i][j]])\n",
    "            }else{\n",
    "                m.set(i-j, [matrix[i][j]])\n",
    "            } \n",
    "        }\n",
    "    }\n",
    "    //  sort diagonally items in map\n",
    "    for (const value of m.values()) {\n",
    "        value.sort((a,b)=>a-b)\n",
    "    }\n",
    "    \n",
    "    //  insert values spo\n",
    "    for (let i = 0; i < matrix.length; i++) {\n",
    "        for (let j = 0; j < matrix[0].length; j++) {\n",
    "            matrix[i][j] = m.get(i-j).pop()\n",
    "        }\n",
    "    }\n",
    "    return matrix\n",
    "}\n",
    "\n",
    "\n",
    "console.log(solve(\n",
    "    [\n",
    "    [1, 5 ,3],\n",
    "    [5, 2, 7],\n",
    "    [1, 8, 3]\n",
    "]))"
   ]
  },
  {
   "cell_type": "markdown",
   "metadata": {},
   "source": [
    "### Word Search\n",
    "\n",
    "❓ Given a 2D board and a word, find if the word exists in the grid. \\\n",
    "The word can be constructed from letters of `sequentially adjacent cell`, where *`adjacent`* cells are those `horizontally or vertically neighboring`. The same letter cell may not be `used more than once`.\n",
    "\n",
    "> Note: All the Inputs will be capital letters only.\n",
    "\n",
    "👀 Example\n",
    "\n",
    "``` python\n",
    "board =\n",
    "[\n",
    "  ['A','B','C','E'],\n",
    "  ['S','F','C','S'],\n",
    "  ['A','D','E','E']\n",
    "]\n",
    "\n",
    "Given word = \"ABCCED\", return true.\n",
    "Given word = \"SEE\", return true.\n",
    "Given word = \"SEED\", return true.\n",
    "Given word = \"SEEF\", return false.\n",
    "Given word = \"ABCB\", return false.\n",
    "```"
   ]
  },
  {
   "cell_type": "code",
   "execution_count": null,
   "metadata": {},
   "outputs": [],
   "source": []
  },
  {
   "cell_type": "markdown",
   "metadata": {},
   "source": [
    "### Flatten 2D arrays\n",
    "\n",
    "❓ Implement method `flatten2DArray` that converts the given 2d array to a 1D array.\n",
    "\n",
    "👀 Example\n",
    "\n",
    "``` \n",
    "Given array:\n",
    "[\n",
    "    [31 12 43]\n",
    "    [21 9 16]\n",
    "    [ 0 9 0]\n",
    "]\n",
    "\n",
    "Flattened array:\n",
    "[31 12 43 21 9 16 0 9 0]\n",
    "```"
   ]
  },
  {
   "cell_type": "code",
   "execution_count": 3,
   "metadata": {
    "vscode": {
     "languageId": "javascript"
    }
   },
   "outputs": [
    {
     "name": "stdout",
     "output_type": "stream",
     "text": [
      "[31, 12, 43, 21, 9, 16, 0, 9, 0]\n"
     ]
    }
   ],
   "source": [
    "const FlattenArray = (arr) => {\n",
    "    \n",
    "    let ansArr = [];\n",
    "    \n",
    "    for (let i = 0; i < arr.length; i++) {\n",
    "       for (let j = 0; j < arr.length; j++) {\n",
    "        ansArr.push(arr[i][j])\n",
    "       }\n",
    "    }\n",
    "    console.log(ansArr)\n",
    "}\n",
    "\n",
    "FlattenArray([\n",
    "    [31, 12, 43],\n",
    "    [21, 9, 16],\n",
    "    [ 0 ,9 ,0]\n",
    "])"
   ]
  },
  {
   "cell_type": "markdown",
   "metadata": {},
   "source": [
    "### Flatten 2D arrays nested\n",
    "\n",
    "❓Using recursion, implement method `flatten2DArrayNested` to convert the 2d array in to a 1D array where each element itself can be an 2D array or array or single item.\n",
    "\n",
    "```\n",
    "Input:\n",
    "[\n",
    "    [31, [12, 43], [1] ]\n",
    "    [21, [9, [10 6]], 16]\n",
    "    [ 0, 9, 0]\n",
    "]\n",
    "\n",
    "Flattened array:\n",
    "[31, 12, 43, 1, 21, 9, 10, 6, 16, 0, 9, 0]\n",
    "```\n",
    "\n"
   ]
  },
  {
   "cell_type": "code",
   "execution_count": 2,
   "metadata": {
    "vscode": {
     "languageId": "javascript"
    }
   },
   "outputs": [
    {
     "name": "stdout",
     "output_type": "stream",
     "text": [
      "[31, 12, 43, 1, 21, 9, 10, 6, 16, 0, 9, 0]\n"
     ]
    }
   ],
   "source": [
    "function FlattenArray(arr){\n",
    "    let ans = []\n",
    "    function letsFlatIt(a) {\n",
    "        for (let i = 0; i < a.length; i++) {\n",
    "            if(typeof a[i] === 'number'){\n",
    "                ans.push(a[i])\n",
    "            }else{\n",
    "                letsFlatIt(a[i])\n",
    "            }\n",
    "        }\n",
    "    }\n",
    "    letsFlatIt(arr)\n",
    "    return ans\n",
    "}\n",
    "\n",
    "const a = FlattenArray([\n",
    "    [31, [12, 43], [1] ],\n",
    "    [21, [9, [10, 6]], 16],\n",
    "    [ 0, 9, 0]\n",
    "])\n",
    "\n",
    "console.log(a)\n",
    "\n",
    "\n"
   ]
  },
  {
   "cell_type": "markdown",
   "metadata": {},
   "source": [
    "1. Solve this problem using recursion \n",
    "2. it works as if the arr[i] is number then it push element to ans \n",
    "   else it call the function for arr[i]\n",
    " "
   ]
  }
 ],
 "metadata": {
  "kernelspec": {
   "display_name": "Python 3.10.8 64-bit",
   "language": "python",
   "name": "python3"
  },
  "language_info": {
   "codemirror_mode": {
    "name": "ipython",
    "version": 3
   },
   "file_extension": ".py",
   "mimetype": "text/x-python",
   "name": "python",
   "nbconvert_exporter": "python",
   "pygments_lexer": "ipython3",
   "version": "3.10.8"
  },
  "orig_nbformat": 4,
  "vscode": {
   "interpreter": {
    "hash": "26de051ba29f2982a8de78e945f0abaf191376122a1563185a90213a26c5da77"
   }
  }
 },
 "nbformat": 4,
 "nbformat_minor": 2
}
