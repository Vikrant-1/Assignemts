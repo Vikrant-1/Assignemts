{
 "cells": [
  {
   "cell_type": "markdown",
   "metadata": {},
   "source": [
    "# Strings & 1D Arrays\n",
    "## Guidelines\n",
    "- First convert the all the strings to character array (using `stringToCharArray` method below) and only then begin the processing. Return the resultant string from array (using `charArrayToString` method)\n",
    "- Do not use the native functions on string excluding `charAt`\n",
    "- Do not use `insert(index, item)`"
   ]
  },
  {
   "cell_type": "code",
   "execution_count": null,
   "metadata": {},
   "outputs": [],
   "source": [
    "def stringToCharArray(string):\n",
    "\treturn list(string)\n",
    "\n",
    "def charArrayToString(charArray):\n",
    "\treturn \"\".join(charArray)\n"
   ]
  },
  {
   "cell_type": "markdown",
   "metadata": {},
   "source": [
    "---\n",
    "## Strings"
   ]
  },
  {
   "cell_type": "markdown",
   "metadata": {},
   "source": [
    "#### ❓ Insert in the middle\n",
    "Given a String and String1, print the modified string by inserting String1 at the middle of string (use ceiling value for middle if the length is odd i.e. 4 when length is 7)\n",
    "   > Example: Input: String: “I LONDIA”, String1: “VE I”. Print: “I LOVE INDIA”"
   ]
  },
  {
   "cell_type": "code",
   "execution_count": 18,
   "metadata": {
    "vscode": {
     "languageId": "javascript"
    }
   },
   "outputs": [
    {
     "name": "stdout",
     "output_type": "stream",
     "text": [
      "I LOVE INDIA\n"
     ]
    }
   ],
   "source": [
    "\n"
   ]
  },
  {
   "cell_type": "markdown",
   "metadata": {},
   "source": [
    "#### ❓ Count the consecutive character sets\n",
    "Given a string, find the number of Sets. We say Set is formed when three consecutive characters are of the same value. \n",
    "> Example: ‘accccdbbba’ has 3 sets (2 ccc's & 1 bbb)"
   ]
  },
  {
   "cell_type": "code",
   "execution_count": null,
   "metadata": {},
   "outputs": [],
   "source": []
  },
  {
   "cell_type": "markdown",
   "metadata": {},
   "source": [
    "#### ❓ Replace string magic sequence\n",
    "Implement method `replaceMagicSequence(inputArray, inputString)` which will replace the magic character sequence `\"%@\"` sequentially using data from the input array. (Replacement of the `%@` with elements from `inputArray` should be from left to right)\n",
    "\n",
    "> Please do the basic validations of `inputArray` and `inputString`\n",
    "\n",
    "**Example**:\n",
    "```python\n",
    "inputArray =  [\"Mr.\", \"ChittiMan\", \"25th Feb 2022\", \"09:30 PM\"] \n",
    "inputString = \"Please confirm the appointment with %@%@'s friend on %@ at %@\"\n",
    "Output = \"Please confirm the appointment with Mr.ChittiMan's friend on 25th Feb 2022 at 09:30 PM\"\n",
    "``` "
   ]
  },
  {
   "cell_type": "code",
   "execution_count": null,
   "metadata": {},
   "outputs": [],
   "source": []
  },
  {
   "cell_type": "markdown",
   "metadata": {},
   "source": [
    "----\n",
    "# Lists"
   ]
  },
  {
   "cell_type": "markdown",
   "metadata": {},
   "source": [
    "### 1D Array"
   ]
  },
  {
   "cell_type": "markdown",
   "metadata": {},
   "source": [
    "#### ❓ Print array from first and last alternatively \n",
    "Given an array, write a function to print one element from the front, another from the back, and so on till the array is exhausted.\n",
    "> Example: [1, 2, 3, 4, 5] => 1, 5, 2, 4, 3"
   ]
  },
  {
   "cell_type": "code",
   "execution_count": 17,
   "metadata": {
    "vscode": {
     "languageId": "javascript"
    }
   },
   "outputs": [
    {
     "name": "stdout",
     "output_type": "stream",
     "text": [
      "1 6 2 5 3 4 "
     ]
    }
   ],
   "source": [
    "const solve = (arr) => {\n",
    "    let i = 0;\n",
    "    let j = arr.length - 1;\n",
    "    \n",
    "    while (i<=j) {\n",
    "\n",
    "      console.log(arr[i])\n",
    "      \n",
    "      if(i<j){\n",
    "        console.log(arr[j])\n",
    "        j -= 1\n",
    "      }\n",
    "      i += 1  \n",
    "    }\n",
    "  }\n",
    "  \n",
    "  solve([1,2,3,4,5,6])"
   ]
  },
  {
   "cell_type": "markdown",
   "metadata": {},
   "source": [
    "#### ❓ Print array from first and middle alternatively\n",
    "Given an array, write a function that prints one element from the front, and another from the middle, and so on till the array is exhausted.\n",
    "> Example: [1, 2, 3, 4, 5, 6] => 1, 4, 2, 5, 3, 6"
   ]
  },
  {
   "cell_type": "code",
   "execution_count": 1,
   "metadata": {
    "vscode": {
     "languageId": "javascript"
    }
   },
   "outputs": [
    {
     "name": "stdout",
     "output_type": "stream",
     "text": [
      "1\n",
      "4\n",
      "2\n",
      "5\n",
      "3\n",
      "6\n"
     ]
    }
   ],
   "source": [
    "const solve = (arr) => {\n",
    "    let mid = Math.ceil(arr.length/2)\n",
    "    let i = 0;\n",
    "    let j = mid;\n",
    "    while (i < mid && j <= arr.length){\n",
    "        console.log(arr[i])\n",
    "        if(j < arr.length){\n",
    "            console.log(arr[j])\n",
    "            j += 1\n",
    "        }\n",
    "        i += 1\n",
    "    }\n",
    "}\n",
    "solve([1,2,3,4,5,6])\n",
    "\n"
   ]
  },
  {
   "cell_type": "markdown",
   "metadata": {},
   "source": [
    "#### ❓ Array with multiplied adjacent elements \n",
    "Write a function that calculates a result array that is formed by the multiplication of adjacent elements.\n",
    "> Example: [1, 2, 3, 4, 5] => [2, 6, 24, 60, 20]"
   ]
  },
  {
   "cell_type": "code",
   "execution_count": 24,
   "metadata": {
    "vscode": {
     "languageId": "javascript"
    }
   },
   "outputs": [
    {
     "name": "stdout",
     "output_type": "stream",
     "text": [
      "[2, 6, 24, 60, 20]\n"
     ]
    }
   ],
   "source": [
    "const solveMultiplication = (arr) =>{\n",
    "    let n = arr.length;\n",
    "    if(n <= 1){\n",
    "      return arr \n",
    "    }\n",
    "    let ans = Array(n);\n",
    "    for (let i = 0; i < arr.length; i++) {\n",
    "      if(i==0){\n",
    "        ans[i] = arr[i]*arr[i+1]\n",
    "      }else if(i == n-1){\n",
    "        ans[i] = arr[i] *arr[i-1]\n",
    "      }else{\n",
    "        ans[i] = arr[i] *arr[i+1] *arr[i-1]\n",
    "      }\n",
    "    }\n",
    "    return ans\n",
    "  }\n",
    "  \n",
    "console.log(solveMultiplication([1,2,3,4,5]))"
   ]
  },
  {
   "cell_type": "markdown",
   "metadata": {},
   "source": [
    "#### ❓ Array find if two numbers sum to the given one\n",
    "Write a function that returns whether two elements exist within the given array summing up to the given number `Z`.\n",
    "\n",
    "> Example: [1, 2, 3, 4, 5],\n",
    "> \n",
    "> Z = 10 => false\n",
    "> \n",
    "> Z = 7 => true "
   ]
  },
  {
   "cell_type": "code",
   "execution_count": 3,
   "metadata": {
    "vscode": {
     "languageId": "javascript"
    }
   },
   "outputs": [
    {
     "name": "stdout",
     "output_type": "stream",
     "text": [
      "false\n",
      "true\n"
     ]
    }
   ],
   "source": [
    "const solve = (arr,x) => {\n",
    "    let m = new Map();\n",
    "    \n",
    "    for (let i = 0; i < arr.length; i++) {\n",
    "        if(m.has(arr[i])){\n",
    "            m.set(arr[i],m.get(arr[i])+1)\n",
    "        }else{\n",
    "            m.set(arr[i],1)\n",
    "        }\n",
    "    }\n",
    "    let ans;\n",
    "    let result;\n",
    "    for (let i = 0; i < arr.length; i++) {\n",
    "        if(m.has(x-arr[i]) ){\n",
    "            ans = x-arr[i]\n",
    "            result = true\n",
    "        }\n",
    "\n",
    "        if(ans == arr[i] && m.get(arr[i]) == 1){\n",
    "            result = false\n",
    "        }    \n",
    "    }\n",
    "\n",
    "   return  result ? result : false\n",
    "}\n",
    "\n",
    "console.log(solve([1,2,3,4,5,1],10))\n",
    "console.log(solve([1,2,3,4,5],7))"
   ]
  },
  {
   "cell_type": "markdown",
   "metadata": {},
   "source": [
    "#### ❓ Array balance point for partition \n",
    "Write a function that returns whether there exists an index from which the sum to the `left (inclusive)` is equal to the sum to the `right (exclusive)`  \n",
    "\n",
    "> Example: \n",
    "> \n",
    "> Input : [1, 2, 3, 4, 5] Output : false \n",
    "> \n",
    "> Input :  [1, 11, 17, 28, 1]  Output :true"
   ]
  },
  {
   "cell_type": "code",
   "execution_count": 9,
   "metadata": {
    "vscode": {
     "languageId": "javascript"
    }
   },
   "outputs": [
    {
     "data": {
      "text/plain": [
       "True"
      ]
     },
     "execution_count": 9,
     "metadata": {},
     "output_type": "execute_result"
    }
   ],
   "source": [
    "const solve = (arr) => {\n",
    "    let sum = 0;\n",
    "    let n = arr.length;\n",
    "    \n",
    "    for (let i = 0; i < n; i++) {\n",
    "      sum += arr[i]\n",
    "    }\n",
    "  \n",
    "    let leftSum = arr[0];\n",
    "  \n",
    "    for (let i = 1; i < n; i++){\n",
    "      if(leftSum === (sum-leftSum)){\n",
    "        return true\n",
    "      }\n",
    "\n",
    "      leftSum += arr[i]\n",
    "    }\n",
    "    return false\n",
    "  }\n",
    "\n",
    "console.log(solve([1,11,17,28,1]))"
   ]
  }
 ],
 "metadata": {
  "kernelspec": {
   "display_name": "Python 3.10.8 64-bit",
   "language": "python",
   "name": "python3"
  },
  "language_info": {
   "codemirror_mode": {
    "name": "ipython",
    "version": 3
   },
   "file_extension": ".py",
   "mimetype": "text/x-python",
   "name": "python",
   "nbconvert_exporter": "python",
   "pygments_lexer": "ipython3",
   "version": "3.10.8"
  },
  "orig_nbformat": 4,
  "vscode": {
   "interpreter": {
    "hash": "26de051ba29f2982a8de78e945f0abaf191376122a1563185a90213a26c5da77"
   }
  }
 },
 "nbformat": 4,
 "nbformat_minor": 2
}
