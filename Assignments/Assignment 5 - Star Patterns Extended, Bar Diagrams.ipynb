{
 "cells": [
  {
   "cell_type": "markdown",
   "metadata": {},
   "source": [
    "# Star Patterns Extended & Bar Diagrams"
   ]
  },
  {
   "cell_type": "markdown",
   "metadata": {},
   "source": [
    "---\n",
    "\n",
    "### ❓ Bar graphs \n",
    "Write a function that takes in an array of integers and prints the corresponding horizontal bar diagram. \\\n",
    "> e.g : Array: [1, 4, 3, 8, 2]\n",
    "\n",
    "Output\n",
    "\n",
    "```\n",
    "=\n",
    " |\n",
    "=\n",
    "\n",
    "====\n",
    "    |\n",
    "====\n",
    "\n",
    "===\n",
    "   |\n",
    "===\n",
    "\n",
    "========\n",
    "        |\n",
    "========\n",
    "\n",
    "==\n",
    "  |\n",
    "==\n",
    "```"
   ]
  },
  {
   "cell_type": "code",
   "execution_count": null,
   "metadata": {
    "vscode": {
     "languageId": "javascript"
    }
   },
   "outputs": [],
   "source": [
    "const  drawBarGraph =(array) => {\n",
    "    let ans ='';\n",
    "    let n = array.length;\n",
    "\n",
    "    for (let i = 0; i < n; i++) {\n",
    "         \n",
    "        for (let j = 0; j < array[i]; j++) {\n",
    "            ans += '=';\n",
    "        }\n",
    "\n",
    "        ans += '\\n'\n",
    "        for (let k = 0; k < array[i]; k++) {\n",
    "            ans += ' ';\n",
    "            if( k == array[i]-1){\n",
    "                ans += '|'\n",
    "            }\n",
    "        }\n",
    "        ans += '\\n'\n",
    "        for (let l = 0; l < array[i]; l++) {\n",
    "            ans += '=';\n",
    "        }\n",
    "        ans += '\\n'\n",
    "    }\n",
    "    console.log(ans);\n",
    "}\n",
    "\n",
    "drawBarGraph([2,4,1,8])"
   ]
  },
  {
   "cell_type": "markdown",
   "metadata": {},
   "source": [
    "---\n",
    "\n",
    "### ❓ Vertical Bar Diagram\n",
    "Write function `verticalBarDiagram` that prints the vertical bar diagram\n",
    "> e.g. [1, 4, 2, 6]\n",
    "\n",
    "```\n",
    "               | |\n",
    "               | |\n",
    "     | |       | |\n",
    "     | |       | |\n",
    "     | |  | |  | |\n",
    "| |  | |  | |  | |\n",
    "\n",
    "```"
   ]
  },
  {
   "cell_type": "code",
   "execution_count": null,
   "metadata": {
    "vscode": {
     "languageId": "javascript"
    }
   },
   "outputs": [],
   "source": [
    "// Having problem in this question"
   ]
  },
  {
   "cell_type": "markdown",
   "metadata": {},
   "source": [
    "---\n",
    "\n",
    "### ❓Hollow patterns\n",
    "Print the following patterns\n",
    "\n",
    "#### Hollow diamond"
   ]
  },
  {
   "cell_type": "markdown",
   "metadata": {},
   "source": [
    "> if n=5\n",
    "\n",
    "```\n",
    "    *\n",
    "   * *\n",
    "  *   *\n",
    " *     *\n",
    "*       *\n",
    " *     *\n",
    "  *   *\n",
    "   * *\n",
    "    *\n",
    "```"
   ]
  },
  {
   "cell_type": "code",
   "execution_count": null,
   "metadata": {
    "vscode": {
     "languageId": "javascript"
    }
   },
   "outputs": [],
   "source": [
    "const hollowDiamond = (n) => {\n",
    "    let ans = \"\"; // store ans\n",
    "    \n",
    "    // upper part\n",
    "    for (let i = 0; i < n; i++) {\n",
    "        //  upper left part\n",
    "        for (let j = 0; j < n; j++) {\n",
    "            if(j == n-i-1){\n",
    "                ans += '*'\n",
    "            }else{\n",
    "                ans += ' '\n",
    "            }\n",
    "        }\n",
    "        //  upper right part\n",
    "        for (let k = 0; k < i; k++) {\n",
    "            if(k == i-1){\n",
    "                ans += '*'\n",
    "            }else{\n",
    "                ans += ' '\n",
    "            }\n",
    "        }\n",
    "        ans += '\\n'; //line breaker\n",
    "        \n",
    "    }\n",
    "    //  lower part\n",
    "    for (let i = 0; i < n-1; i++) {\n",
    "        //  lower left\n",
    "        for (let j = 0; j < n-1; j++) {\n",
    "            if(j  ==  i+1){\n",
    "                ans += '*'\n",
    "            }else{\n",
    "                ans += ' '\n",
    "            }\n",
    "        }\n",
    "        // lower right\n",
    "        for (let k = 0; k < n-i-1; k++) {\n",
    "            if(k == n-i-2){\n",
    "                ans += '*'\n",
    "\n",
    "            }else{\n",
    "                ans += ' '\n",
    "            }\n",
    "        }\n",
    "      ans += '\\n'; // store ans\n",
    "        \n",
    "    }\n",
    "    console.log(ans);\n",
    "}\n",
    "\n",
    "hollowDiamond(5)"
   ]
  },
  {
   "cell_type": "markdown",
   "metadata": {},
   "source": [
    "---\n",
    "### ❓ Mountains\n",
    "> if n == 5\n",
    "\n",
    "```\n",
    "     *       *\t\n",
    "    * *     * *\n",
    "   *   *   *   *\n",
    "  *     * *     *\n",
    " *       *       *\n",
    "\n",
    "```"
   ]
  },
  {
   "cell_type": "code",
   "execution_count": null,
   "metadata": {
    "vscode": {
     "languageId": "javascript"
    }
   },
   "outputs": [],
   "source": [
    "const Mountains = (n) => {\n",
    "    let ans = \"\"; // store ans\n",
    "\n",
    "    for (let i = 0; i < n; i++) {\n",
    "        \n",
    "        // first line  \n",
    "        for (let j = 0; j < n; j++) {\n",
    "            if(j == n-i-1){\n",
    "                ans += '*'\n",
    "            }else{\n",
    "                ans += ' '\n",
    "            }\n",
    "        }\n",
    "\n",
    "        //  second line\n",
    "        for (let k = 0; k < i; k++) {\n",
    "            if(k == i-1){\n",
    "                ans += '*'\n",
    "            }else{\n",
    "                ans += ' '\n",
    "            }\n",
    "        }\n",
    "\n",
    "        // space after first half\n",
    "        for (let j = 0; j < n-i-1; j++) {\n",
    "            ans += ' '\n",
    "            \n",
    "        }\n",
    "\n",
    "        // third line\n",
    "        for (let j = 0; j < n-1; j++) {\n",
    "            if(j == n-i-2){\n",
    "                ans += '*'\n",
    "            }else{\n",
    "                ans += ' '\n",
    "            }\n",
    "        }\n",
    "\n",
    "        // fourth line \n",
    "        for (let k = 0; k < i; k++) {\n",
    "            if(k == i-1){\n",
    "                ans += '*'\n",
    "            }else{\n",
    "                ans += ' '\n",
    "            }\n",
    "        }\n",
    "        ans += '\\n'; // line break \n",
    "    }\n",
    "    \n",
    "    console.log(ans)\n",
    "\n",
    "}\n",
    "Mountains(5)"
   ]
  },
  {
   "cell_type": "markdown",
   "metadata": {},
   "source": [
    "---\n",
    "### ❓ Inverse Pyramid\n",
    "\n",
    "> if n = 5\n",
    "\n",
    "```\n",
    " * * * * * \n",
    "  * * * * \n",
    "   * * * \n",
    "    * * \n",
    "     * \n",
    "```"
   ]
  },
  {
   "cell_type": "code",
   "execution_count": null,
   "metadata": {
    "vscode": {
     "languageId": "javascript"
    }
   },
   "outputs": [],
   "source": [
    "const InversePyramid = (n) => {\n",
    "    let ans = '';  // store ans\n",
    "\n",
    "    //  loop from 'i to 0' if 'i = n'\n",
    "    for (let i = n; i > 0; i--) {\n",
    "        // side spaces \n",
    "        for(let j = 0; j <= n-i ; j++){\n",
    "            ans += ' ';\n",
    "        }\n",
    "        for(let k =0 ; k<i;k++){\n",
    "            ans+='*'    \n",
    "            ans += \" \"    // spaces right side of every star\n",
    "        }\n",
    "    \n",
    "    ans += '\\n' // line breaker\n",
    "    }\n",
    "    console.log(ans)\n",
    "\n",
    "} \n",
    "\n",
    "InversePyramid(5)"
   ]
  },
  {
   "cell_type": "markdown",
   "metadata": {},
   "source": [
    "---\n",
    "### ❓ Sandglass\n",
    "\n",
    "> if n=5\n",
    "\n",
    "```\n",
    "* * * * * \n",
    " * * * * \n",
    "  * * * \n",
    "   * * \n",
    "    * \n",
    "    * \n",
    "   * * \n",
    "  * * * \n",
    " * * * * \n",
    "* * * * * \n",
    "```\n"
   ]
  },
  {
   "cell_type": "code",
   "execution_count": null,
   "metadata": {
    "vscode": {
     "languageId": "javascript"
    }
   },
   "outputs": [],
   "source": [
    "const Sandglass = (n) => {\n",
    "    let ans = '';  // store ans\n",
    "\n",
    "    //  loop from 'i to 0' if 'i = n'\n",
    "    for (let i = n; i > 0; i--) {\n",
    "        // side spaces \n",
    "        for(let j = 0; j <= n-i ; j++){\n",
    "            ans += ' ';\n",
    "        }\n",
    "        for(let k =0 ; k<i;k++){\n",
    "            ans+='*'    \n",
    "            ans += \" \"    // spaces right side of every star\n",
    "        }\n",
    "    \n",
    "        ans += '\\n' // line breaker\n",
    "    }\n",
    "    for (let i = n; i > 0; i--) {\n",
    "        // side spaces \n",
    "        for(let j = 0; j <i ; j++){\n",
    "            ans += ' ';\n",
    "        }\n",
    "        for(let k =0 ; k <= n-i;k++){\n",
    "            ans+='*'    \n",
    "            ans += \" \"    // spaces right side of every star\n",
    "        }\n",
    "    \n",
    "    ans += '\\n' // line breaker\n",
    "    }\n",
    "    console.log(ans)\n",
    "\n",
    "} \n",
    "\n",
    "Sandglass(5)"
   ]
  }
 ],
 "metadata": {
  "kernelspec": {
   "display_name": "Python 3.10.8 64-bit",
   "language": "python",
   "name": "python3"
  },
  "language_info": {
   "codemirror_mode": {
    "name": "ipython",
    "version": 3
   },
   "file_extension": ".py",
   "mimetype": "text/x-python",
   "name": "python",
   "nbconvert_exporter": "python",
   "pygments_lexer": "ipython3",
   "version": "3.10.8"
  },
  "orig_nbformat": 4,
  "vscode": {
   "interpreter": {
    "hash": "26de051ba29f2982a8de78e945f0abaf191376122a1563185a90213a26c5da77"
   }
  }
 },
 "nbformat": 4,
 "nbformat_minor": 2
}
