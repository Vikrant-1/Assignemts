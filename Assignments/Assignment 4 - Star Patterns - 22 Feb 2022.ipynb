{
 "cells": [
  {
   "cell_type": "markdown",
   "metadata": {},
   "source": [
    "> Don't forget to add instructions e.g. shouldn't use * * \"string\""
   ]
  },
  {
   "cell_type": "markdown",
   "metadata": {},
   "source": [
    "# Print following star (*) patterns"
   ]
  },
  {
   "cell_type": "markdown",
   "metadata": {},
   "source": [
    "## 📜 Important Guidelines\n",
    "This is intended to be language agnostic assignment with pure focus on looping, so\n",
    "- Do not use anything other than plain loops\n",
    "  - Do not use multiply operator on strings in Python i.e. `\"code\" * 2 => \"codecode\"`\n",
    "  - Any other operator that does the things out of the hand\n",
    "- Reuse the code, but have separate answer for each of the below\n",
    "> 💡 You can reuse your own function to help print multiple characters at one go\n",
    "\n",
    "---"
   ]
  },
  {
   "cell_type": "markdown",
   "metadata": {},
   "source": [
    "### ❓ Pyramid 90deg clockwise\n",
    "\n",
    "> if n = 3\n",
    "```\n",
    "*\n",
    "**\n",
    "***\n",
    "**\n",
    "*\n",
    "```"
   ]
  },
  {
   "cell_type": "code",
   "execution_count": null,
   "metadata": {
    "vscode": {
     "languageId": "javascript"
    }
   },
   "outputs": [],
   "source": [
    "const Pyramid90degclockwise = (n) => {\n",
    "    \n",
    "    //  store ans here\n",
    "    let ans = \"\";\n",
    "    // for upper part \n",
    "    for (let i = 0; i < n; i++) {\n",
    "        for (let j = 0; j < i+1; j++) {      \n",
    "          ans += \"*\"\n",
    "        }\n",
    "      //  line break\n",
    "      ans += '\\n'\n",
    "    }\n",
    "    // for lower part\n",
    "    for (let i = 0; i < n; i++) {\n",
    "        for (let j = 0; j < n-1-i; j++) {      \n",
    "          ans += \"*\"\n",
    "        }\n",
    "      //  line break\n",
    "      ans += '\\n'\n",
    "    }\n",
    "    console.log(ans)\n",
    "}\n",
    "\n",
    "Pyramid90degclockwise(4);"
   ]
  },
  {
   "cell_type": "markdown",
   "metadata": {},
   "source": [
    "---\n",
    "### ❓Vertically inversed triangle wall left\n",
    "> if n = 4\n",
    "```\n",
    "****\n",
    "***\n",
    "**\n",
    "*\n",
    "```"
   ]
  },
  {
   "cell_type": "code",
   "execution_count": 18,
   "metadata": {
    "vscode": {
     "languageId": "javascript"
    }
   },
   "outputs": [
    {
     "name": "stdout",
     "output_type": "stream",
     "text": [
      "****\n",
      "***\n",
      "**\n",
      "*\n"
     ]
    }
   ],
   "source": [
    "const Verticallyinversedtriangle =(n)=> {\n",
    "        let ans=\"\";  // store ans\n",
    "        // inner looping work for 'n-i'  \n",
    "        for (let i = 0; i < n; i++) {\n",
    "            for (let j = 0; j < n-i; j++) {      \n",
    "              ans += \"*\";\n",
    "            }\n",
    "            ans += '\\n'; // line break\n",
    "        }\n",
    "        console.log(ans);\n",
    "    }\n",
    "Verticallyinversedtriangle(4)"
   ]
  },
  {
   "cell_type": "markdown",
   "metadata": {},
   "source": [
    "---\n",
    "### ❓ Horizontally inversed triangle wall right\n",
    "> if n = 4\n",
    "```\n",
    "   *\n",
    "  **\n",
    " ***\n",
    "****\n",
    "```"
   ]
  },
  {
   "cell_type": "code",
   "execution_count": 65,
   "metadata": {
    "vscode": {
     "languageId": "javascript"
    }
   },
   "outputs": [
    {
     "name": "stdout",
     "output_type": "stream",
     "text": [
      "   *\n",
      "  **\n",
      " ***\n",
      "****\n"
     ]
    }
   ],
   "source": [
    "\n",
    "const HorizontallyInversedTriangle = (n) => {\n",
    "    let ans = \"\"; // store ans\n",
    "\n",
    "    //  inner loop have condition 'j >= n-i-1' for star and fill empty space\n",
    "    for (let i = 0; i < n; i++) {\n",
    "        for (let j = 0 ; j < n; j++){\n",
    "            if(j >= n-i-1){\n",
    "                ans+='*';\n",
    "            }else{\n",
    "                ans+=' ';\n",
    "            }\n",
    "        }\n",
    "        ans+='\\n'; // line break\n",
    "    }\n",
    "    console.log(ans);\n",
    "}\n",
    "HorizontallyInversedTriangle(4)"
   ]
  },
  {
   "cell_type": "markdown",
   "metadata": {},
   "source": [
    "---\n",
    "### ❓ Horizontal triangle wall left\n",
    "> if n = 4\n",
    "```\n",
    "*\n",
    "**\n",
    "***\n",
    "****\n",
    "```"
   ]
  },
  {
   "cell_type": "code",
   "execution_count": 63,
   "metadata": {
    "vscode": {
     "languageId": "javascript"
    }
   },
   "outputs": [
    {
     "name": "stdout",
     "output_type": "stream",
     "text": [
      "*\n",
      "**\n",
      "***\n",
      "****\n"
     ]
    }
   ],
   "source": [
    "const HorizontalTriangleWallLeft = (n) => {\n",
    "    let ans =\"\"; //store ans\n",
    "    \n",
    "    // inner loop j is loop through  outer loop + 1 times \n",
    "    for (let i = 0; i < n; i++) {\n",
    "        for (let j = 0; j < i+1; j++) {      \n",
    "          ans += \"*\";\n",
    "        }\n",
    "        ans += '\\n'; // line beak\n",
    "    }\n",
    "    console.log(ans)\n",
    "}\n",
    "\n",
    "HorizontalTriangleWallLeft(4)\n"
   ]
  },
  {
   "cell_type": "markdown",
   "metadata": {},
   "source": [
    "---\n",
    "### ❓ Pyramid\n",
    "> if n = 4\n",
    "```\n",
    "    *\n",
    "   ***\n",
    "  *****\n",
    " *******\n",
    "```"
   ]
  },
  {
   "cell_type": "code",
   "execution_count": 87,
   "metadata": {
    "vscode": {
     "languageId": "javascript"
    }
   },
   "outputs": [
    {
     "name": "stdout",
     "output_type": "stream",
     "text": [
      "   *\n",
      "  ***\n",
      " *****\n",
      "*******\n"
     ]
    }
   ],
   "source": [
    "const Pyramid=(n)=> {\n",
    "    let ans =\"\"; // store ans\n",
    "    \n",
    "    for(let i =0; i< n; i++){\n",
    "   // solve the first vertical half   \n",
    "        for(let j =0; j < n; j++){\n",
    "            if(j >= n-i-1){\n",
    "                ans+='*';\n",
    "            }else{\n",
    "                ans+=' ';\n",
    "            }\n",
    "        }\n",
    "    //  for remaning part\n",
    "        for(let k =0;k<i;k++){\n",
    "            ans+='*';\n",
    "        }\n",
    "        ans += '\\n'; // store ans\n",
    "    } \n",
    "    console.log(ans);\n",
    "}\n",
    "Pyramid(4);"
   ]
  }
 ],
 "metadata": {
  "kernelspec": {
   "display_name": "Python 3.10.8 64-bit",
   "language": "python",
   "name": "python3"
  },
  "language_info": {
   "codemirror_mode": {
    "name": "ipython",
    "version": 3
   },
   "file_extension": ".py",
   "mimetype": "text/x-python",
   "name": "python",
   "nbconvert_exporter": "python",
   "pygments_lexer": "ipython3",
   "version": "3.10.8"
  },
  "orig_nbformat": 4,
  "vscode": {
   "interpreter": {
    "hash": "26de051ba29f2982a8de78e945f0abaf191376122a1563185a90213a26c5da77"
   }
  }
 },
 "nbformat": 4,
 "nbformat_minor": 2
}
